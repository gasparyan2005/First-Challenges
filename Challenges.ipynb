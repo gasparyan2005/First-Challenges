{
 "cells": [
  {
   "cell_type": "markdown",
   "metadata": {},
   "source": [
    "# Challenges"
   ]
  },
  {
   "cell_type": "markdown",
   "metadata": {},
   "source": [
    "## Challenges 1 - 11: The Basics"
   ]
  },
  {
   "cell_type": "markdown",
   "metadata": {},
   "source": [
    "1.Ask for the user’s first name and\n",
    "display the output message\n",
    "`Hello 𝗙𝗶𝗿𝘀𝘁 𝗡𝗮𝗺𝗲`"
   ]
  },
  {
   "cell_type": "code",
   "execution_count": 1,
   "metadata": {},
   "outputs": [
    {
     "name": "stdout",
     "output_type": "stream",
     "text": [
      "First Name: Nemo\n",
      "Hello Nemo\n"
     ]
    }
   ],
   "source": [
    "name=input('First Name: ')\n",
    "print('Hello',name)"
   ]
  },
  {
   "cell_type": "markdown",
   "metadata": {},
   "source": [
    "2.Ask for the user’s first name and then ask for\n",
    "their surname and display the output message\n",
    "`Hello 𝗙𝗶𝗿𝘀𝘁 𝗡𝗮𝗺𝗲 𝗦𝘂𝗿𝗻𝗮𝗺𝗲` ."
   ]
  },
  {
   "cell_type": "code",
   "execution_count": 2,
   "metadata": {},
   "outputs": [
    {
     "name": "stdout",
     "output_type": "stream",
     "text": [
      "First Name: Vazgen\n",
      "Surname: Gasparyan\n",
      "Hello Vazgen Gasparyan\n"
     ]
    }
   ],
   "source": [
    "name = input('First Name: ')\n",
    "surname = input('Surname: ')\n",
    "print('Hello',name,surname)"
   ]
  },
  {
   "cell_type": "markdown",
   "metadata": {},
   "source": [
    "3.Write code that will display the joke “What do you call a bear with no\n",
    "teeth?” and on the next line display the answer “A gummy bear!” Try to\n",
    "create it using only one line of code."
   ]
  },
  {
   "cell_type": "code",
   "execution_count": 4,
   "metadata": {},
   "outputs": [
    {
     "name": "stdout",
     "output_type": "stream",
     "text": [
      "What do you call a bear with no teeth?\n",
      "A gummy bear!\n"
     ]
    }
   ],
   "source": [
    "print('What do you call a bear with no teeth?','A gummy bear!',sep=\"\\n\")"
   ]
  },
  {
   "cell_type": "markdown",
   "metadata": {},
   "source": [
    "4.Ask the user to enter two numbers. Add them together and display the answer as `The total is 𝗮𝗻𝘀𝘄𝗲𝗿`"
   ]
  },
  {
   "cell_type": "code",
   "execution_count": 3,
   "metadata": {},
   "outputs": [
    {
     "name": "stdout",
     "output_type": "stream",
     "text": [
      "num1: 120\n",
      "num2: 455\n",
      "The total is 575\n"
     ]
    }
   ],
   "source": [
    "num1 = eval(input('num1: '))\n",
    "num2 = eval(input('num2: '))\n",
    "print('The total is',num1+num2)"
   ]
  },
  {
   "cell_type": "markdown",
   "metadata": {},
   "source": [
    "5.Ask the user to enter three\n",
    "numbers. Add together the first\n",
    "two numbers and then multiply\n",
    "this total by the third. Display the\n",
    "answer as `The answer is\n",
    "𝗮𝗻𝘀𝘄𝗲𝗿` ."
   ]
  },
  {
   "cell_type": "code",
   "execution_count": null,
   "metadata": {},
   "outputs": [
    {
     "name": "stdout",
     "output_type": "stream",
     "text": [
      "num1: 2\n",
      "num2: 3\n",
      "num3: 4\n",
      "The answer is 20\n"
     ]
    }
   ],
   "source": [
    "num1 = eval(input('num1: '))\n",
    "num2 = eval(input('num2: '))\n",
    "num3 = eval(input('num3: '))\n",
    "print('The answer is',(num1+num2)*num3)"
   ]
  },
  {
   "cell_type": "markdown",
   "metadata": {},
   "source": [
    "7.Ask the user for their name and their age. Add 1 to their age\n",
    "and display the output `𝗡𝗮𝗺𝗲 next birthday you will be 𝗻𝗲𝘄 𝗮𝗴𝗲` ."
   ]
  },
  {
   "cell_type": "code",
   "execution_count": null,
   "metadata": {},
   "outputs": [
    {
     "name": "stdout",
     "output_type": "stream",
     "text": [
      "name: Vazgen\n",
      "age: 16\n",
      "Vazgen next birthday you will be 17\n"
     ]
    }
   ],
   "source": [
    "name = input('name: ')\n",
    "age = int(input('age: '))\n",
    "print(name,'next birthday you will be',age+1)"
   ]
  },
  {
   "cell_type": "markdown",
   "metadata": {},
   "source": [
    "8.Ask for the total price of the bill, then ask how\n",
    "many diners there are. Divide the total bill by the\n",
    "number of diners and show how much each\n",
    "person must pay."
   ]
  },
  {
   "cell_type": "code",
   "execution_count": null,
   "metadata": {},
   "outputs": [
    {
     "name": "stdout",
     "output_type": "stream",
     "text": [
      "bill in USD: 20\n",
      "person number: 5\n",
      "Each person must pay 4.0$\n"
     ]
    }
   ],
   "source": [
    "bill = eval(input('bill in USD: '))\n",
    "person = eval(input('person number: '))\n",
    "print(\"Each person must pay\",str(bill/person)+'$')"
   ]
  },
  {
   "cell_type": "markdown",
   "metadata": {},
   "source": [
    "9.Write a program\n",
    "that will ask for a\n",
    "number of days\n",
    "and then will\n",
    "show how many\n",
    "hours, minutes\n",
    "and seconds are\n",
    "in that number of\n",
    "days."
   ]
  },
  {
   "cell_type": "code",
   "execution_count": null,
   "metadata": {},
   "outputs": [
    {
     "name": "stdout",
     "output_type": "stream",
     "text": [
      "days number: 10\n",
      "hours 240\n",
      "minutes 14400\n",
      "seconds 864000\n"
     ]
    }
   ],
   "source": [
    "day = int(input('days number: '))\n",
    "print('hours',day*24)\n",
    "print('minutes',(day*24)*60)\n",
    "print('seconds',(day*24)*60*60)"
   ]
  },
  {
   "cell_type": "markdown",
   "metadata": {},
   "source": [
    "10.There are 2,204 pounds in a kilogram. Ask the\n",
    "user to enter a weight in kilograms and convert it to pounds."
   ]
  },
  {
   "cell_type": "code",
   "execution_count": null,
   "metadata": {},
   "outputs": [
    {
     "name": "stdout",
     "output_type": "stream",
     "text": [
      "weight in kilogram: 10.5\n",
      "weight in pound: 23.142000000000003\n"
     ]
    }
   ],
   "source": [
    "kg = eval(input('weight in kilogram: '))\n",
    "print('weight in pound:',kg*2.204)"
   ]
  },
  {
   "cell_type": "markdown",
   "metadata": {},
   "source": [
    "## Challenges 12 - 19: If Statements"
   ]
  },
  {
   "cell_type": "markdown",
   "metadata": {},
   "source": [
    "12.Ask for two numbers. If the first one is larger\n",
    "than the second, display the second number first\n",
    "and then the first number, otherwise show\n",
    "the first number first and then the second.\n",
    "\n"
   ]
  },
  {
   "cell_type": "code",
   "execution_count": null,
   "metadata": {},
   "outputs": [
    {
     "name": "stdout",
     "output_type": "stream",
     "text": [
      "number1: 11\n",
      "number2: 10\n",
      "10,11\n"
     ]
    }
   ],
   "source": [
    "num1 = eval(input('number1: '))\n",
    "num2 = eval(input('number2: '))\n",
    "if num1>num2: print(f'{num2},{num1}')\n",
    "else: print(f'{num1},{num2}')"
   ]
  },
  {
   "cell_type": "markdown",
   "metadata": {},
   "source": [
    "13.Ask the user to enter a number that is under 20. If they enter a number that is 20 or more, display the message “Too high”, otherwise display “Thank you”."
   ]
  },
  {
   "cell_type": "code",
   "execution_count": null,
   "metadata": {},
   "outputs": [
    {
     "name": "stdout",
     "output_type": "stream",
     "text": [
      "number: 20\n",
      "Too high\n"
     ]
    }
   ],
   "source": [
    "num = eval(input(\"number: \"))\n",
    "if num>=20: print(\"Too high\")\n",
    "else: print(\"Thank you\")"
   ]
  },
  {
   "cell_type": "markdown",
   "metadata": {},
   "source": [
    "14.Ask the user to enter a number between 10 and 20\n",
    "(inclusive). If they enter a number within this range, display the message “Thank you”, otherwise display the message “Incorrect answer”."
   ]
  },
  {
   "cell_type": "code",
   "execution_count": null,
   "metadata": {},
   "outputs": [
    {
     "name": "stdout",
     "output_type": "stream",
     "text": [
      "number: 5\n",
      "Incorrect answer\n"
     ]
    }
   ],
   "source": [
    "num = eval(input(\"number: \"))\n",
    "if 10<=num<=20: print('Thank you')\n",
    "else: print('Incorrect answer')"
   ]
  },
  {
   "cell_type": "markdown",
   "metadata": {},
   "source": [
    "15.Ask the user to enter their favourite colour. If they enter `“red”`, `“RED”` or `“Red”` display the message `“I like red too”`, otherwise display the message `“I don’t like 𝗰𝗼𝗹𝗼𝘂𝗿, I prefer red”`."
   ]
  },
  {
   "cell_type": "code",
   "execution_count": null,
   "metadata": {},
   "outputs": [
    {
     "name": "stdout",
     "output_type": "stream",
     "text": [
      "colour: red\n",
      "I like red too\n"
     ]
    }
   ],
   "source": [
    "colour = input('colour: ')\n",
    "if colour=='red' or colour=='RED' or colour=='Red':\n",
    "    print('I like red too')\n",
    "else: print(f'I don’t like {colour}, I prefer red.')"
   ]
  },
  {
   "cell_type": "markdown",
   "metadata": {},
   "source": [
    "16.Ask the user if it is raining and convert their answer to lower case so it doesn’t matter what case they type it in. If they answer `“yes”`, ask if it is windy. If they answer `“yes”` to this second question, display the answer `“It is too windy for an umbrella”`, otherwise display the message `“Take an umbrella”`. If they did not answer yes to the first question, display the answer `“Enjoy your day”`."
   ]
  },
  {
   "cell_type": "code",
   "execution_count": null,
   "metadata": {},
   "outputs": [
    {
     "name": "stdout",
     "output_type": "stream",
     "text": [
      "անձր՞և է գալիս: yes\n",
      "արդյո՞ք քամի է: no\n",
      "Take an umbrella\n"
     ]
    }
   ],
   "source": [
    "ask1 = input('անձր՞և է գալիս: ').lower()\n",
    "if ask1=='yes':\n",
    "    ask2 = input('արդյո՞ք քամի է: ')\n",
    "    if ask2=='yes': print('It is too windy for an umbrella')\n",
    "    else: print('Take an umbrella')\n",
    "else: print('Enjoy your day')"
   ]
  },
  {
   "cell_type": "markdown",
   "metadata": {},
   "source": [
    "17.Ask the user’s age. If they are 18 or over, display the message `“You can vote”`, if they are aged 17, display the message `“You can learn to drive”`, if they are 16, display the message `“You can buy a lottery ticket”`, if they are under 16, display the message `“You can go Trick-or-Treating”`."
   ]
  },
  {
   "cell_type": "code",
   "execution_count": null,
   "metadata": {},
   "outputs": [
    {
     "name": "stdout",
     "output_type": "stream",
     "text": [
      "age: 17\n",
      "You can learn to drive\n"
     ]
    }
   ],
   "source": [
    "age = int(input('age: '))\n",
    "if age>=18: print('You can vote')\n",
    "elif age==17: print('You can learn to drive')\n",
    "elif age==16: print('You can buy a lottery ticket')\n",
    "elif age<16: print('You can go Trick-or-Treating')"
   ]
  },
  {
   "cell_type": "markdown",
   "metadata": {},
   "source": [
    "18.Ask the user to enter a number. If it is under 10,display the message `“Too low”`, if their number is between 10 and 20, display `“Correct”`, otherwise\n",
    "display `“Too high”`."
   ]
  },
  {
   "cell_type": "code",
   "execution_count": null,
   "metadata": {},
   "outputs": [
    {
     "name": "stdout",
     "output_type": "stream",
     "text": [
      "number: 10\n",
      "Correct\n"
     ]
    }
   ],
   "source": [
    "num = eval(input('number: '))\n",
    "if num<10: print('Too low')\n",
    "elif 10<=num<=20: print('Correct')\n",
    "else: print('Too high')"
   ]
  },
  {
   "cell_type": "markdown",
   "metadata": {},
   "source": [
    "19.Ask the user to enter 1, 2 or 3. If they enter a 1, display the message `“Thank you”`, if they enter a 2, display `“Well done”`, if they enter a 3, display `“Correct”`. If they enter anything else, display `“Error message”`."
   ]
  },
  {
   "cell_type": "code",
   "execution_count": null,
   "metadata": {},
   "outputs": [
    {
     "name": "stdout",
     "output_type": "stream",
     "text": [
      "enter 1,2 or 3: 1\n",
      "Thank you\n"
     ]
    }
   ],
   "source": [
    "num = input('enter 1,2 or 3: ')\n",
    "if num=='1': print('Thank you')\n",
    "elif num=='2': print('Well done')\n",
    "elif num=='3': print('Correct')\n",
    "else: print('Error message')"
   ]
  },
  {
   "cell_type": "markdown",
   "metadata": {},
   "source": [
    "## Challenges 20 - 26: Strings"
   ]
  },
  {
   "cell_type": "markdown",
   "metadata": {},
   "source": [
    "20.Ask the user to enter their first name and then display the length of their name."
   ]
  },
  {
   "cell_type": "code",
   "execution_count": null,
   "metadata": {},
   "outputs": [
    {
     "name": "stdout",
     "output_type": "stream",
     "text": [
      "name: Vazgen\n",
      "6\n"
     ]
    }
   ],
   "source": [
    "name = input('name: ')\n",
    "print(len(name))"
   ]
  },
  {
   "cell_type": "markdown",
   "metadata": {},
   "source": [
    "21.Ask the user to enter their first name and then ask them to enter their surname. Join them together with a space between and display the name and the length of whole name."
   ]
  },
  {
   "cell_type": "code",
   "execution_count": null,
   "metadata": {},
   "outputs": [
    {
     "name": "stdout",
     "output_type": "stream",
     "text": [
      "name: Vazgen\n",
      "surname: Gasparyan\n",
      "Vazgen Gasparyan 16\n"
     ]
    }
   ],
   "source": [
    "name = input('name: ')\n",
    "surname = input('surname: ')\n",
    "full = name+' '+surname\n",
    "print(full,len(full))"
   ]
  },
  {
   "cell_type": "markdown",
   "metadata": {},
   "source": [
    "22.Ask the user to enter their first name and surname in lower case. Change the case to title case and join them together. Display the finished result."
   ]
  },
  {
   "cell_type": "code",
   "execution_count": null,
   "metadata": {},
   "outputs": [
    {
     "name": "stdout",
     "output_type": "stream",
     "text": [
      "name: vazgen\n",
      "surname: gasParyan\n",
      "Vazgen Gasparyan\n"
     ]
    }
   ],
   "source": [
    "name = input('name: ').lower()\n",
    "surname = input('surname: ').lower()\n",
    "print(f'{name} {surname}'.title())"
   ]
  },
  {
   "cell_type": "markdown",
   "metadata": {},
   "source": [
    "23.Ask the user to type in the first line of a nursery rhyme and display the length of the string.\n",
    "Ask for a starting number and an ending number and then display just that section of the text (remember Python starts counting from 0 and not 1)."
   ]
  },
  {
   "cell_type": "code",
   "execution_count": null,
   "metadata": {},
   "outputs": [
    {
     "name": "stdout",
     "output_type": "stream",
     "text": [
      "nursery rhyme: մանկական բանաստեղծության առաջին տող\n",
      "35\n",
      "starting num: 1\n",
      "ending num: 11\n",
      "անկական բա\n"
     ]
    }
   ],
   "source": [
    "nursery_rhyme = input('nursery rhyme: ')\n",
    "print(len(nursery_rhyme))\n",
    "num1 = int(input('starting num: '))\n",
    "num2 = int(input('ending num: '))\n",
    "print(nursery_rhyme[num1:num2])"
   ]
  },
  {
   "cell_type": "markdown",
   "metadata": {},
   "source": [
    "24.Ask the user to type in any word and display it in upper case."
   ]
  },
  {
   "cell_type": "code",
   "execution_count": null,
   "metadata": {},
   "outputs": [
    {
     "name": "stdout",
     "output_type": "stream",
     "text": [
      "text: Challenges\n",
      "CHALLENGES\n"
     ]
    }
   ],
   "source": [
    "text = input('text: ').upper()\n",
    "print(text)"
   ]
  },
  {
   "cell_type": "markdown",
   "metadata": {},
   "source": [
    "25.Ask the user to enter their first name. If the length of their first name is under five characters, ask them to enter their surname and join them together (without a space) and display the name in upper case. If the length of the first name is five or more characters, display their first name in lower case."
   ]
  },
  {
   "cell_type": "code",
   "execution_count": null,
   "metadata": {},
   "outputs": [
    {
     "name": "stdout",
     "output_type": "stream",
     "text": [
      "name: Anna\n",
      "surname: Mnacakanyan\n",
      "ANNAMNACAKANYAN\n"
     ]
    }
   ],
   "source": [
    "name = input('name: ')\n",
    "if len(name)<5:\n",
    "    surname = input('surname: ')\n",
    "    print(name.upper()+surname.upper())\n",
    "else: print(name.lower()+surname.lower())"
   ]
  },
  {
   "cell_type": "markdown",
   "metadata": {},
   "source": [
    "## Challenges 27 - 34: Maths"
   ]
  },
  {
   "cell_type": "markdown",
   "metadata": {},
   "source": [
    "27.Ask the user to enter a number with lots of decimal places. Multiply this number by two and display the answer."
   ]
  },
  {
   "cell_type": "code",
   "execution_count": null,
   "metadata": {},
   "outputs": [
    {
     "name": "stdout",
     "output_type": "stream",
     "text": [
      "float: 10.5\n",
      "21.0\n"
     ]
    }
   ],
   "source": [
    "num = float(input('float: '))\n",
    "print(num*2)"
   ]
  },
  {
   "cell_type": "markdown",
   "metadata": {},
   "source": [
    "28.Update program 27 so that it will display the answer to two decimal places."
   ]
  },
  {
   "cell_type": "code",
   "execution_count": null,
   "metadata": {},
   "outputs": [
    {
     "name": "stdout",
     "output_type": "stream",
     "text": [
      "10.5\n"
     ]
    }
   ],
   "source": [
    "num = 10.5\n",
    "print(round(num,2))"
   ]
  },
  {
   "cell_type": "markdown",
   "metadata": {},
   "source": [
    "29.Ask the user to enter an integer that is over 500. Work out the square root of that number and display it to two decimal places."
   ]
  },
  {
   "cell_type": "code",
   "execution_count": null,
   "metadata": {},
   "outputs": [
    {
     "name": "stdout",
     "output_type": "stream",
     "text": [
      "number: 520\n",
      "22.8\n"
     ]
    }
   ],
   "source": [
    "num = int(input('number: '))\n",
    "num**=0.5\n",
    "print(round(num,2))"
   ]
  },
  {
   "cell_type": "markdown",
   "metadata": {},
   "source": [
    "30.Display pi (π) to five decimal places."
   ]
  },
  {
   "cell_type": "code",
   "execution_count": null,
   "metadata": {},
   "outputs": [
    {
     "name": "stdout",
     "output_type": "stream",
     "text": [
      "3.14159\n"
     ]
    }
   ],
   "source": [
    "import math\n",
    "print(round(math.pi,5))"
   ]
  },
  {
   "cell_type": "markdown",
   "metadata": {},
   "source": [
    "31.Ask the user to enter the radius of a circle\n",
    "(measurement from the centre point to the edge). Work out the area of the circle (π*radius 2)."
   ]
  },
  {
   "cell_type": "code",
   "execution_count": null,
   "metadata": {
    "scrolled": true
   },
   "outputs": [
    {
     "name": "stdout",
     "output_type": "stream",
     "text": [
      "radius: 5\n",
      "78.53981633974483\n"
     ]
    }
   ],
   "source": [
    "radius = int(input('radius: '))\n",
    "print(math.pi*(radius**2))"
   ]
  },
  {
   "cell_type": "markdown",
   "metadata": {},
   "source": [
    "32.Ask for the radius and the depth of a cylinder\n",
    "and work out the total volume (circle area*depth) rounded to three decimal places."
   ]
  },
  {
   "cell_type": "code",
   "execution_count": null,
   "metadata": {},
   "outputs": [
    {
     "name": "stdout",
     "output_type": "stream",
     "text": [
      "radius: 5\n",
      "depth: 5\n",
      "392.699\n"
     ]
    }
   ],
   "source": [
    "radius = int(input('radius: '))\n",
    "depth = int(input('depth: '))\n",
    "print(round(((math.pi*(radius**2))*depth),3))"
   ]
  },
  {
   "cell_type": "markdown",
   "metadata": {},
   "source": [
    "33.Ask the user to enter two numbers. Use whole number division to divide the first number by the second and also work out the remainder and display the answer in a user-friendly way (e.g. if they enter 7 and 2 display “7 divided by 2 is 3 with 1\n",
    "remaining”)."
   ]
  },
  {
   "cell_type": "code",
   "execution_count": null,
   "metadata": {},
   "outputs": [
    {
     "name": "stdout",
     "output_type": "stream",
     "text": [
      "num1: 7\n",
      "num2: 2\n",
      "3\n",
      "1\n"
     ]
    }
   ],
   "source": [
    "num1 = int(input('num1: '))\n",
    "num2 = int(input('num2: '))\n",
    "print(num1//num2)\n",
    "print(num1%num2)"
   ]
  },
  {
   "cell_type": "markdown",
   "metadata": {},
   "source": [
    "## Challenges 35 - 44: For Loop"
   ]
  },
  {
   "cell_type": "markdown",
   "metadata": {},
   "source": [
    "35.Ask the user to enter their name and then display their name three times."
   ]
  },
  {
   "cell_type": "code",
   "execution_count": null,
   "metadata": {},
   "outputs": [
    {
     "name": "stdout",
     "output_type": "stream",
     "text": [
      "name: Vazgen\n",
      "Vazgen\n",
      "Vazgen\n",
      "Vazgen\n"
     ]
    }
   ],
   "source": [
    "name = input('name: ')\n",
    "for i in range(3):\n",
    "    print(name)"
   ]
  },
  {
   "cell_type": "markdown",
   "metadata": {},
   "source": [
    "36.Alter program 35 so that it will ask the user to enter their name and a number and then display their name that number of times."
   ]
  },
  {
   "cell_type": "code",
   "execution_count": null,
   "metadata": {},
   "outputs": [
    {
     "name": "stdout",
     "output_type": "stream",
     "text": [
      "name: Jon\n",
      "number: 4\n",
      "Jon\n",
      "Jon\n",
      "Jon\n",
      "Jon\n"
     ]
    }
   ],
   "source": [
    "name = input('name: ')\n",
    "n = int(input('number: '))\n",
    "for i in range(n):\n",
    "    print(name)"
   ]
  },
  {
   "cell_type": "markdown",
   "metadata": {},
   "source": [
    "37.Ask the user to enter their name and display each letter in their name on a separate line."
   ]
  },
  {
   "cell_type": "code",
   "execution_count": null,
   "metadata": {},
   "outputs": [
    {
     "name": "stdout",
     "output_type": "stream",
     "text": [
      "name: Anna\n",
      "A\n",
      "n\n",
      "n\n",
      "a\n"
     ]
    }
   ],
   "source": [
    "name = input('name: ')\n",
    "for i in name:\n",
    "    print(i)"
   ]
  },
  {
   "cell_type": "markdown",
   "metadata": {},
   "source": [
    "38.Change program 37 to also ask for a number. Display their name (one letter at a time on each line) and repeat this for the number of times they entered."
   ]
  },
  {
   "cell_type": "code",
   "execution_count": null,
   "metadata": {},
   "outputs": [
    {
     "name": "stdout",
     "output_type": "stream",
     "text": [
      "name: Gor\n",
      "number: 2\n",
      "G\n",
      "o\n",
      "r\n",
      "G\n",
      "o\n",
      "r\n"
     ]
    }
   ],
   "source": [
    "name = input('name: ')\n",
    "n = int(input('number: '))\n",
    "for i in range(n):\n",
    "    for k in name:\n",
    "        print(k)"
   ]
  },
  {
   "cell_type": "markdown",
   "metadata": {},
   "source": [
    "39.Ask the user to enter a number between 1 and 12 and then display the times table for that number."
   ]
  },
  {
   "cell_type": "code",
   "execution_count": null,
   "metadata": {},
   "outputs": [
    {
     "name": "stdout",
     "output_type": "stream",
     "text": [
      "number: 5\n",
      "5*1=5\n",
      "5*2=10\n",
      "5*3=15\n",
      "5*4=20\n",
      "5*5=25\n",
      "5*6=30\n",
      "5*7=35\n",
      "5*8=40\n",
      "5*9=45\n",
      "5*10=50\n",
      "5*11=55\n",
      "5*12=60\n"
     ]
    }
   ],
   "source": [
    "num = int(input('number: '))\n",
    "for i in range(1,13):\n",
    "    print(f'{num}*{i}={num*i}')"
   ]
  },
  {
   "cell_type": "markdown",
   "metadata": {},
   "source": [
    "40.Ask for a number below 50 and then count down from 50 to that number, making sure you show the number they entered in the output."
   ]
  },
  {
   "cell_type": "code",
   "execution_count": null,
   "metadata": {},
   "outputs": [
    {
     "name": "stdout",
     "output_type": "stream",
     "text": [
      "number<50: 40\n",
      "50\n",
      "49\n",
      "48\n",
      "47\n",
      "46\n",
      "45\n",
      "44\n",
      "43\n",
      "42\n",
      "41\n",
      "40\n"
     ]
    }
   ],
   "source": [
    "num = int(input('number<50: '))\n",
    "for i in range(50,num-1,-1):\n",
    "    print(i)"
   ]
  },
  {
   "cell_type": "markdown",
   "metadata": {},
   "source": [
    "41.Ask the user to enter their name and a number. If the number is less than 10, then display their name that number of times; otherwise display the message `“Too high”` three times."
   ]
  },
  {
   "cell_type": "code",
   "execution_count": null,
   "metadata": {},
   "outputs": [
    {
     "name": "stdout",
     "output_type": "stream",
     "text": [
      "name: Vazgen\n",
      "number: 12\n",
      "Too high\n",
      "Too high\n",
      "Too high\n"
     ]
    }
   ],
   "source": [
    "name = input('name: ')\n",
    "n = int(input('number: '))\n",
    "if n<10:\n",
    "    for i in range(n): print(name)\n",
    "else:\n",
    "    for i in range(3): print('Too high')"
   ]
  },
  {
   "cell_type": "markdown",
   "metadata": {},
   "source": [
    "42.Set a variable called total to 0. Ask the user to enter five numbers and after each input ask them if they want that number included. If they do, then add the number to the total. If they do not want it included, don’t add it to the total. After they have entered all five numbers, display the total."
   ]
  },
  {
   "cell_type": "code",
   "execution_count": null,
   "metadata": {},
   "outputs": [
    {
     "name": "stdout",
     "output_type": "stream",
     "text": [
      "number: 2\n",
      "y(yes) or n(no)y\n",
      "number: 4\n",
      "y(yes) or n(no)y\n",
      "number: 6\n",
      "y(yes) or n(no)n\n",
      "number: 8\n",
      "y(yes) or n(no)y\n",
      "number: 3\n",
      "y(yes) or n(no)n\n",
      "14\n"
     ]
    }
   ],
   "source": [
    "x = 0\n",
    "for i in range(5):\n",
    "    n = int(input('number: '))\n",
    "    ask = input('y(yes) or n(no)')\n",
    "    if ask =='y': x+=n\n",
    "print(x)"
   ]
  },
  {
   "cell_type": "markdown",
   "metadata": {},
   "source": [
    "43.Ask which direction the user wants to count (up or down). If they select up, then ask them for the top number and then count from 1 to that number. If they select down, ask them to enter a number below 20 and then count down from 20 to that number. If they entered something other than up or down, display the message `“I don’t understand”`."
   ]
  },
  {
   "cell_type": "code",
   "execution_count": null,
   "metadata": {},
   "outputs": [
    {
     "name": "stdout",
     "output_type": "stream",
     "text": [
      "y(yes) or n(no)n\n",
      "number<20: 10\n",
      "20\n",
      "19\n",
      "18\n",
      "17\n",
      "16\n",
      "15\n",
      "14\n",
      "13\n",
      "12\n",
      "11\n",
      "10\n"
     ]
    }
   ],
   "source": [
    "ask = input('y(yes) or n(no)')\n",
    "if ask=='y':\n",
    "    n = int(input('number: '))\n",
    "    for i in range(1,n+1): print(i)\n",
    "elif ask=='n':\n",
    "    n = int(input('number<20: '))\n",
    "    for i in range(20,n-1,-1): print(i)\n",
    "else: print('I don’t understand')"
   ]
  },
  {
   "cell_type": "markdown",
   "metadata": {},
   "source": [
    "44.Ask how many people the user wants to invite to a party. If they enter a number below 10, ask for the names and after each name display `“𝗡𝗮𝗺𝗲 has been invited”`. If they enter a number which is 10 or higher, display the message `“Too many people”`."
   ]
  },
  {
   "cell_type": "code",
   "execution_count": null,
   "metadata": {},
   "outputs": [
    {
     "name": "stdout",
     "output_type": "stream",
     "text": [
      "number people: 2\n",
      "name: Gor\n",
      "Gor has been invited\n",
      "name: Gnel\n",
      "Gnel has been invited\n"
     ]
    }
   ],
   "source": [
    "num = int(input('number people: '))\n",
    "if num<10:\n",
    "    for i in range(num):\n",
    "        name = input('name: ')\n",
    "        print(f'{name} has been invited')\n",
    "else: print('Too many people')"
   ]
  },
  {
   "cell_type": "markdown",
   "metadata": {},
   "source": [
    "## Challenges 45 - 51: While Loop"
   ]
  },
  {
   "cell_type": "markdown",
   "metadata": {},
   "source": [
    "45.Set the total to 0 to start with. While the total is 50 or less, ask the user to input a number. Add that number to the total and print the message `“The total is... 𝘁𝗼𝘁𝗮𝗹”`. Stop the loop when the total is over 50 ."
   ]
  },
  {
   "cell_type": "code",
   "execution_count": null,
   "metadata": {},
   "outputs": [
    {
     "name": "stdout",
     "output_type": "stream",
     "text": [
      "number: 5\n",
      "The total is... 5\n",
      "number: 6\n",
      "The total is... 11\n",
      "number: 40\n",
      "The total is... 51\n"
     ]
    }
   ],
   "source": [
    "total = 0\n",
    "while total<=50:\n",
    "    total+=int(input('number: '))\n",
    "    print(f'The total is... {total}')"
   ]
  },
  {
   "cell_type": "markdown",
   "metadata": {},
   "source": [
    "46.Ask the user to enter a number. Keep asking until they enter a value over 5 and then display the message `“The last number you entered was a 𝗻𝘂𝗺𝗯𝗲𝗿”` and stop the program."
   ]
  },
  {
   "cell_type": "code",
   "execution_count": null,
   "metadata": {},
   "outputs": [
    {
     "name": "stdout",
     "output_type": "stream",
     "text": [
      "number: 1\n",
      "number: 3\n",
      "number: 7\n",
      "11\n"
     ]
    }
   ],
   "source": [
    "x = 0\n",
    "while x<=5:\n",
    "    x+=int(input('number: '))\n",
    "print(x)"
   ]
  },
  {
   "cell_type": "markdown",
   "metadata": {},
   "source": [
    "47.Ask the user to enter a number and then enter another number. Add these two numbers together and\n",
    "then ask if they want to add another number. If they enter `“y\"`, ask them to enter another number and keep adding numbers until they do not answer `“y”`. Once the loop has stopped, display the total."
   ]
  },
  {
   "cell_type": "code",
   "execution_count": null,
   "metadata": {},
   "outputs": [
    {
     "name": "stdout",
     "output_type": "stream",
     "text": [
      "number1: 5\n",
      "number2: 2\n",
      "yes-> y: y\n",
      "number: 6\n",
      "yes-> y: n\n",
      "13\n"
     ]
    }
   ],
   "source": [
    "num = int(input('number1: '))+int(input('number2: '))\n",
    "ans = 'y'\n",
    "while ans=='y':\n",
    "    ans = input('yes-> y: ')\n",
    "    if ans=='y':\n",
    "        n=int(input('number: '))\n",
    "        num+=n\n",
    "print(num)"
   ]
  },
  {
   "cell_type": "markdown",
   "metadata": {},
   "source": [
    "48.Ask for the name of somebody the user wants to invite to a party. After this, display the message `“𝗡𝗮𝗺𝗲 has now been invited”` and add 1 to the count. Then ask if they want to invite somebody else. Keep repeating this until they no longer want to invite anyone else to the party and then display how many people they have coming to the party."
   ]
  },
  {
   "cell_type": "code",
   "execution_count": null,
   "metadata": {},
   "outputs": [
    {
     "name": "stdout",
     "output_type": "stream",
     "text": [
      "name: Vazgen\n",
      "Vazgen has now been invited\n",
      "yes-> y: y\n",
      "name: John Doe\n",
      "John Doe has now been invited\n",
      "yes-> y: no\n",
      "2\n"
     ]
    }
   ],
   "source": [
    "ans = 'y'\n",
    "total = 0\n",
    "while ans=='y':\n",
    "    name = input('name: ')\n",
    "    print(f'{name} has now been invited')\n",
    "    total+=1\n",
    "    ans = input('yes-> y: ')\n",
    "print(total)"
   ]
  },
  {
   "cell_type": "markdown",
   "metadata": {},
   "source": [
    "49.Create a variable called compnum and set the value to 50. Ask the user to enter a number. While their guess is not the same as the compnum value, tell them if their guess is too low or too high and ask them to have another guess. If they enter the same value as compnum, display the message `“Well done, you took 𝗰𝗼𝘂𝗻𝘁 attempts”`."
   ]
  },
  {
   "cell_type": "code",
   "execution_count": null,
   "metadata": {},
   "outputs": [
    {
     "name": "stdout",
     "output_type": "stream",
     "text": [
      "number: 4\n",
      "their guess is too low\n",
      "number: 6\n",
      "their guess is too low\n",
      "number: 80\n",
      "their guess is too high\n",
      "number: 70\n",
      "their guess is too high\n",
      "number: 60\n",
      "their guess is too high\n",
      "number: 50\n",
      "Well done, you took 6 attempts\n"
     ]
    }
   ],
   "source": [
    "num = int(input('number: '))\n",
    "compnum = 50\n",
    "count = 1\n",
    "while num!=compnum:\n",
    "    count+=1\n",
    "    if num<compnum: print('their guess is too low')\n",
    "    else: print('their guess is too high')\n",
    "    num = int(input('number: '))\n",
    "else: print(f'Well done, you took {count} attempts')"
   ]
  },
  {
   "cell_type": "markdown",
   "metadata": {},
   "source": [
    "50.Ask the user to enter a number between 10 and 20. If they enter a value under 10, display the message `“Too low”` and ask them to try again. If they enter a value above 20, display the message `“Too high”` and ask them to try again. Keep repeating this until they enter a value that is between 10 and 20 and then display the message `“Thank you”`."
   ]
  },
  {
   "cell_type": "code",
   "execution_count": null,
   "metadata": {},
   "outputs": [
    {
     "name": "stdout",
     "output_type": "stream",
     "text": [
      "10-20: 5\n",
      "Too low\n",
      "10-20: 21\n",
      "Too high\n",
      "10-20: 20\n",
      "Thank you\n"
     ]
    }
   ],
   "source": [
    "num = int(input('10-20: '))\n",
    "while num<10 or num>20:\n",
    "    if num<10: print('Too low')\n",
    "    if num>20: print('Too high')\n",
    "    num = int(input('10-20: '))\n",
    "else: print('Thank you')"
   ]
  },
  {
   "cell_type": "markdown",
   "metadata": {},
   "source": [
    "## Challenges 52 - 59: Random"
   ]
  },
  {
   "cell_type": "markdown",
   "metadata": {},
   "source": [
    "52.Display a random integer between 1 and 100 inclusive."
   ]
  },
  {
   "cell_type": "code",
   "execution_count": null,
   "metadata": {},
   "outputs": [
    {
     "name": "stdout",
     "output_type": "stream",
     "text": [
      "98\n"
     ]
    }
   ],
   "source": [
    "import random\n",
    "print(random.randint(1,100))"
   ]
  },
  {
   "cell_type": "markdown",
   "metadata": {},
   "source": [
    "53.Display a random fruit from a list of five fruits."
   ]
  },
  {
   "cell_type": "code",
   "execution_count": null,
   "metadata": {},
   "outputs": [
    {
     "name": "stdout",
     "output_type": "stream",
     "text": [
      "cherry\n"
     ]
    }
   ],
   "source": [
    "fruits = ['apple','orange','banana','pear','cherry']\n",
    "print(random.choice(fruits,))"
   ]
  },
  {
   "cell_type": "markdown",
   "metadata": {},
   "source": [
    "54.Randomly choose either heads or tails (`“h”` or `“t”`). Ask the user to make their choice. If their choice is the same as the randomly selected value, display the message `“You win”`, otherwise display `“Bad luck”`. At the end, tell the user if the computer selected heads or tails."
   ]
  },
  {
   "cell_type": "code",
   "execution_count": null,
   "metadata": {},
   "outputs": [
    {
     "name": "stdout",
     "output_type": "stream",
     "text": [
      "“h” or “t”: h\n",
      "You win\n"
     ]
    }
   ],
   "source": [
    "random = random.choice(['h','t'])\n",
    "gues = input('“h” or “t”: ')\n",
    "if gues == random: print('You win')\n",
    "else: print('Bad luck')"
   ]
  },
  {
   "cell_type": "markdown",
   "metadata": {},
   "source": [
    "55.Randomly choose a number between 1 and 5. Ask the user to pick a number. If they guess correctly, display the message `“Well done”`, otherwise tell them if they are too high or too low and ask them to pick a second number. If they guess correctly on their second guess, display `“Correct”`, otherwise display `“You lose”`."
   ]
  },
  {
   "cell_type": "code",
   "execution_count": null,
   "metadata": {},
   "outputs": [
    {
     "name": "stdout",
     "output_type": "stream",
     "text": [
      "gues number: 4\n",
      "too high\n",
      "gues number: 2\n",
      "Correct\n"
     ]
    }
   ],
   "source": [
    "num = random.randint(1,5)\n",
    "gues = int(input('gues number: '))\n",
    "if gues != num:\n",
    "    if gues>num:\n",
    "        print('too high')\n",
    "        gues = int(input('gues number: '))\n",
    "        if gues == num: print('Correct')\n",
    "        else: print('You lose')\n",
    "    elif gues<num:\n",
    "        print('too low')\n",
    "        gues = int(input('gues number: '))\n",
    "        if gues == num: print('Correct')\n",
    "        else: print('You lose')\n",
    "else: print('Well done')"
   ]
  },
  {
   "cell_type": "markdown",
   "metadata": {},
   "source": [
    "56.Randomly pick a whole number between 1 and 10. Ask the user to enter a number and keep entering numbers until they enter the number that was randomly picked."
   ]
  },
  {
   "cell_type": "code",
   "execution_count": null,
   "metadata": {},
   "outputs": [
    {
     "name": "stdout",
     "output_type": "stream",
     "text": [
      "gues number: 1\n",
      "gues number: 2\n",
      "gues number: 3\n",
      "gues number: 4\n"
     ]
    }
   ],
   "source": [
    "num = random.randint(1,6)\n",
    "gues = int(input('gues number: '))\n",
    "while num!=gues:\n",
    "    gues = int(input('gues number: '))"
   ]
  },
  {
   "cell_type": "markdown",
   "metadata": {},
   "source": [
    "57.Update program 56 so that it tells the user if they are too high or too low before they pick again."
   ]
  },
  {
   "cell_type": "code",
   "execution_count": null,
   "metadata": {},
   "outputs": [
    {
     "name": "stdout",
     "output_type": "stream",
     "text": [
      "gues number: 1\n",
      "too low\n",
      "gues number: 2\n",
      "too low\n",
      "gues number: 3\n",
      "too low\n",
      "gues number: 6\n",
      "too high\n",
      "gues number: 5\n"
     ]
    }
   ],
   "source": [
    "num = random.randint(1,6)\n",
    "gues = int(input('gues number: '))\n",
    "while num!=gues:\n",
    "    if gues>num: print('too high')\n",
    "    else: print('too low')\n",
    "    gues = int(input('gues number: '))"
   ]
  },
  {
   "cell_type": "markdown",
   "metadata": {},
   "source": [
    "58.Make a maths quiz that asks five questions by randomly generating two whole numbers to make the question (e.g. 𝗻𝘂𝗺𝟭 + 𝗻𝘂𝗺𝟮). Ask the user to enter the answer. If they get it right add a point to their score. At the end of the quiz, tell them how many they got correct out of five."
   ]
  },
  {
   "cell_type": "code",
   "execution_count": null,
   "metadata": {},
   "outputs": [
    {
     "name": "stdout",
     "output_type": "stream",
     "text": [
      "3+10=11\n",
      "1+7=8\n",
      "5+10=15\n",
      "8+2=10\n",
      "9+7=2\n",
      "3\n"
     ]
    }
   ],
   "source": [
    "correct = 0\n",
    "for i in range(5):\n",
    "    num1 = random.randint(1,10)\n",
    "    num2 = random.randint(1,10)\n",
    "    num3 = num1+num2\n",
    "    ans = int(input(f'{num1}+{num2}='))\n",
    "    if ans==num3: correct+=1\n",
    "else: print(correct)"
   ]
  },
  {
   "cell_type": "markdown",
   "metadata": {},
   "source": [
    "59.Display five colours and ask the user to pick one. If they pick the same as the program has chosen, say `“Well done”`, otherwise display a witty answer which involves the correct colour, e.g. `“I bet you are GREEN with envy”`or `“You are probably feeling BLUE right now”`. Ask them to guess again; if they have still not got it right, keep giving them the same clue and ask the user to "
   ]
  },
  {
   "cell_type": "code",
   "execution_count": null,
   "metadata": {},
   "outputs": [],
   "source": [
    "colour = ['red',\"blue\",'black','purple','green']\n",
    "print(colour)\n",
    "rand = random.choice(colour)\n",
    "gues = input('gues colour: ')\n",
    "while gues!=colour:\n",
    "    print(f'You are probably feeling {colour} right now')\n",
    "    ans"
   ]
  },
  {
   "cell_type": "markdown",
   "metadata": {},
   "source": [
    "## Challenges 69 - 79: Tuples, Lists and Dictionaries"
   ]
  },
  {
   "cell_type": "markdown",
   "metadata": {},
   "source": [
    "69.Create a tuple containing the names of five countries and display the whole tuple. Ask the user to enter one of the countries that have been shown to them and then display the index number (i.e. position in the list) of that item in the tuple."
   ]
  },
  {
   "cell_type": "code",
   "execution_count": null,
   "metadata": {},
   "outputs": [
    {
     "name": "stdout",
     "output_type": "stream",
     "text": [
      "['Armenia', 'Russia', 'Ugunda', 'USA', 'China']\n",
      "Element in list: Armenia\n",
      "0\n"
     ]
    }
   ],
   "source": [
    "x = ['Armenia','Russia','Ugunda','USA','China']\n",
    "print(x)\n",
    "y = input('Element in list: ')\n",
    "print(x.index(y))"
   ]
  },
  {
   "cell_type": "markdown",
   "metadata": {},
   "source": [
    "70.Add to program 69 to ask the user to enter a number and display the country in that position."
   ]
  },
  {
   "cell_type": "code",
   "execution_count": null,
   "metadata": {},
   "outputs": [
    {
     "name": "stdout",
     "output_type": "stream",
     "text": [
      "['Armenia', 'Russia', 'Ugunda', 'USA', 'China']\n",
      "Element in list: Armenia\n",
      "0\n",
      "enter index: 2\n",
      "Ugunda\n"
     ]
    }
   ],
   "source": [
    "x = ['Armenia','Russia','Ugunda','USA','China']\n",
    "print(x)\n",
    "y = input('Element in list: ')\n",
    "print(x.index(y))\n",
    "z = int(input('enter index: '))\n",
    "print(x[z])"
   ]
  },
  {
   "cell_type": "markdown",
   "metadata": {},
   "source": [
    "71.Create a list of two sports. Ask the user what their favourite sport is and add this to the end of the list. Sort the list and display it."
   ]
  },
  {
   "cell_type": "code",
   "execution_count": null,
   "metadata": {},
   "outputs": [
    {
     "name": "stdout",
     "output_type": "stream",
     "text": [
      "Enter your sport name: Football\n",
      "['Box', 'Football', 'table tenis']\n"
     ]
    }
   ],
   "source": [
    "sports = ['Box','table tenis']\n",
    "ask = input('Enter your sport name: ')\n",
    "sports.append(ask)\n",
    "print(sorted(sports))"
   ]
  },
  {
   "cell_type": "markdown",
   "metadata": {},
   "source": [
    "72.Create a list of six school subjects. Ask the user which of these subjects they don’t like. Delete the subject they have chosen from the list before you display the list again."
   ]
  },
  {
   "cell_type": "code",
   "execution_count": null,
   "metadata": {},
   "outputs": [
    {
     "name": "stdout",
     "output_type": "stream",
     "text": [
      "['Mathematics', 'Biology', 'Literature', 'Phisics', 'English']\n",
      "which of these subjects they don’t like: Biology\n",
      "['Mathematics', 'Literature', 'Phisics', 'English']\n"
     ]
    }
   ],
   "source": [
    "subjects = ['Mathematics','Biology','Literature','Phisics','English']\n",
    "print(subjects)\n",
    "ask = input('which of these subjects they don’t like: ')\n",
    "subjects.remove(ask)\n",
    "print(subjects)"
   ]
  },
  {
   "cell_type": "markdown",
   "metadata": {},
   "source": [
    "73.Ask the user to enter four of their favourite foods and store them in a dictionary so that they are indexed with numbers starting from 1. Display\n",
    "the dictionary in full, showing the index number and the item. Ask them which they want to get rid of and remove it from the list. Sort the remaining\n",
    "data and display the dictionary."
   ]
  },
  {
   "cell_type": "code",
   "execution_count": null,
   "metadata": {
    "scrolled": true
   },
   "outputs": [
    {
     "name": "stdout",
     "output_type": "stream",
     "text": [
      "fruit name: apple\n",
      "fruit name: cherry\n",
      "fruit name: banana\n",
      "{1: 'apple', 2: 'cherry', 3: 'banana'}\n",
      "remove it: banana\n",
      "{1: 'apple', 2: 'cherry'}\n"
     ]
    }
   ],
   "source": [
    "dict1 = {}\n",
    "for i in range(1,4):\n",
    "    dict1[i]=input('fruit name: ')\n",
    "print(dict1)\n",
    "ask = input('remove it: ')\n",
    "for k in dict1:\n",
    "    if dict1[k]==ask:\n",
    "        del dict1[k]\n",
    "        break\n",
    "print({x:y for x,y in sorted(dict1.items())})"
   ]
  },
  {
   "cell_type": "markdown",
   "metadata": {},
   "source": [
    "74.Enter a list of ten colours. Ask the user for a starting number between 0 and 4 and an end number\n",
    "between 5 and 9. Display the list for those colours\n",
    "between the start and end numbers the user input."
   ]
  },
  {
   "cell_type": "code",
   "execution_count": null,
   "metadata": {},
   "outputs": [
    {
     "name": "stdout",
     "output_type": "stream",
     "text": [
      "num 0-4: 3\n",
      "num 5-9: 7\n",
      "['white', 'pink', 'black', 'purple']\n"
     ]
    }
   ],
   "source": [
    "colours = ['red','blue','yellow','white','pink','black','purple','cyan','green','golden']\n",
    "started = int(input('num 0-4: '))\n",
    "end = int(input('num 5-9: '))\n",
    "print(colours[started:end])"
   ]
  },
  {
   "cell_type": "markdown",
   "metadata": {},
   "source": [
    "76.Ask the user to enter the names of three people they want to invite to a party and store them in a list. After they have entered all three names, ask them if they want to add another. If they do, allow them to add more names until they answer `“no”`. When\n",
    "they answer `“no”`, display how many people they have invited to the party."
   ]
  },
  {
   "cell_type": "code",
   "execution_count": null,
   "metadata": {},
   "outputs": [
    {
     "name": "stdout",
     "output_type": "stream",
     "text": [
      "name: Vazgen\n",
      "name: Nana\n",
      "name: Jon\n",
      "add amother?: yes\n",
      "name: Ann\n",
      "add amother?: no\n",
      "4\n"
     ]
    }
   ],
   "source": [
    "names = [input('name: ') for i in range(3)]\n",
    "ask = input('add amother?: ')\n",
    "while ask=='yes':\n",
    "    names.append(input('name: '))\n",
    "    ask = input('add another?: ')\n",
    "print(len(names))"
   ]
  },
  {
   "cell_type": "markdown",
   "metadata": {},
   "source": [
    "77.Change program 76 so that once the user has completed their list of names, display the full list and ask them to type in one of the names on the list. Display the position of that name in the list. Ask the user if they still want that person to come to the party. If they answer `“no”`, delete that entry from the list and display the list again."
   ]
  },
  {
   "cell_type": "code",
   "execution_count": null,
   "metadata": {},
   "outputs": [
    {
     "name": "stdout",
     "output_type": "stream",
     "text": [
      "name: Gor\n",
      "name: Arman\n",
      "name: Garegin\n",
      "['Gor', 'Arman', 'Garegin']\n",
      "name in list: Gor\n",
      "0\n",
      "want that person to come to the party?: no\n",
      "['Arman', 'Garegin']\n"
     ]
    }
   ],
   "source": [
    "names = [input('name: ') for i in range(3)]\n",
    "print(names)\n",
    "name = input('name in list: ')\n",
    "print(names.index(name))\n",
    "ask = input('want that person to come to the party?: ')\n",
    "if ask=='no':\n",
    "    names.remove(name)\n",
    "    print(names)"
   ]
  },
  {
   "cell_type": "markdown",
   "metadata": {},
   "source": [
    "## Challenges 80 - 87: More String Manipulation"
   ]
  },
  {
   "cell_type": "markdown",
   "metadata": {},
   "source": [
    "80.Ask the user to enter their first name and then display the length of their first name. Then ask for their surname and display the length of their surname. Join their first name and surname together\n",
    "with a space between and display the result. Finally, display the length of their full name (including the space)."
   ]
  },
  {
   "cell_type": "code",
   "execution_count": null,
   "metadata": {},
   "outputs": [
    {
     "name": "stdout",
     "output_type": "stream",
     "text": [
      "first name: Vazgen\n",
      "6\n",
      "surname: Gasparyan\n",
      "9\n",
      "Vazgen Gasparyan\n",
      "16\n"
     ]
    }
   ],
   "source": [
    "name = input('first name: ')\n",
    "print(len(name))\n",
    "surname = input('surname: ')\n",
    "print(len(surname))\n",
    "print(name,surname)\n",
    "print(len(\" \".join([name,surname])))"
   ]
  },
  {
   "cell_type": "code",
   "execution_count": 4,
   "metadata": {
    "scrolled": true
   },
   "outputs": [
    {
     "name": "stdout",
     "output_type": "stream",
     "text": [
      "school subject: Spanish\n",
      "S-p-a-n-i-s-h\n"
     ]
    }
   ],
   "source": [
    "sub = input('school subject: ')\n",
    "print('-'.join(list(sub)))"
   ]
  },
  {
   "cell_type": "code",
   "execution_count": 12,
   "metadata": {
    "scrolled": true
   },
   "outputs": [
    {
     "name": "stdout",
     "output_type": "stream",
     "text": [
      "text: Hi.My name is Vazgen and I'm 16 years old.\n",
      "num1: 2\n",
      "num2: 10\n",
      ".My name\n"
     ]
    }
   ],
   "source": [
    "txt = input('text: ')\n",
    "num1 = int(input('num1: '))\n",
    "num2 = int(input('num2: '))\n",
    "print(txt[num1:num2])"
   ]
  },
  {
   "cell_type": "markdown",
   "metadata": {},
   "source": [
    "83.Ask the user to type in a word in upper case. If they type it in lower case, ask them to try again. Keep repeating this until they type in a message all in uppercase."
   ]
  },
  {
   "cell_type": "code",
   "execution_count": 16,
   "metadata": {},
   "outputs": [
    {
     "name": "stdout",
     "output_type": "stream",
     "text": [
      "word in uppercase: vazgen\n",
      "word in uppercase: VAzgen\n"
     ]
    }
   ],
   "source": [
    "word = input('word in uppercase: ')\n",
    "while word.islower():\n",
    "    word = input('word in uppercase: ')"
   ]
  },
  {
   "cell_type": "markdown",
   "metadata": {},
   "source": [
    "84.Ask the user to type in their postcode. Display the first two letters in uppercase."
   ]
  },
  {
   "cell_type": "code",
   "execution_count": 24,
   "metadata": {},
   "outputs": [
    {
     "name": "stdout",
     "output_type": "stream",
     "text": [
      "postcode: postvalid\n",
      "PO\n"
     ]
    }
   ],
   "source": [
    "x = input('postcode: ')\n",
    "print(x[:2].upper())"
   ]
  },
  {
   "cell_type": "markdown",
   "metadata": {},
   "source": [
    "85.Ask the user to type in their name and then tell them how many vowels are in their name."
   ]
  },
  {
   "cell_type": "code",
   "execution_count": 25,
   "metadata": {},
   "outputs": [
    {
     "name": "stdout",
     "output_type": "stream",
     "text": [
      "name: Vazgen\n",
      "2\n"
     ]
    }
   ],
   "source": [
    "# vowels -a,e,i,o,u\n",
    "name = input('name: ').lower()\n",
    "count=0\n",
    "for i in name:\n",
    "    if i in ('a','e','i','o','u'):\n",
    "        count+=1\n",
    "print(count)"
   ]
  },
  {
   "cell_type": "markdown",
   "metadata": {},
   "source": [
    "86.Ask the user to enter a new password. Ask them to enter it again. If the two passwords match, display `“Thank you”`. If the letters are correct but in the wrong case, display the message `“They must be in the same case”`, otherwise display the message `“Incorrect”`."
   ]
  },
  {
   "cell_type": "code",
   "execution_count": 21,
   "metadata": {},
   "outputs": [
    {
     "name": "stdout",
     "output_type": "stream",
     "text": [
      "password: Vazgen2005\n",
      "repeat password: vazGEn2005\n",
      "They must be in the same case\n"
     ]
    }
   ],
   "source": [
    "password = input('password: ')\n",
    "repeat = input('repeat password: ')\n",
    "if password==repeat: print('Thank you')\n",
    "elif password.lower()==repeat.lower():\n",
    "    print('They must be in the same case')\n",
    "else: print('Incorrect')"
   ]
  },
  {
   "cell_type": "markdown",
   "metadata": {},
   "source": [
    "87.Ask the user to type in a word and then display it backwards on separate lines. For instance, if they type in `“Hello”` it should display as shown below:\n",
    "enter a word Hello\n",
    "o\n",
    "l\n",
    "l\n",
    "e\n",
    "H"
   ]
  },
  {
   "cell_type": "code",
   "execution_count": 23,
   "metadata": {
    "scrolled": true
   },
   "outputs": [
    {
     "name": "stdout",
     "output_type": "stream",
     "text": [
      "word: Hello\n",
      "o\n",
      "l\n",
      "l\n",
      "e\n",
      "H\n"
     ]
    }
   ],
   "source": [
    "word = input('word: ')\n",
    "for i in word[::-1]:\n",
    "    print(i)"
   ]
  },
  {
   "cell_type": "markdown",
   "metadata": {},
   "source": [
    "96.Create the following using a simple 2D list using the standard Python indexing:\n",
    "\n",
    "--  0 - 1 - 2\n",
    "0-  2 | 5 | 8\n",
    "1-  3 | 7 | 4\n",
    "2-  1 | 6 | 9\n",
    "3-  4 | 2 | 0"
   ]
  },
  {
   "cell_type": "code",
   "execution_count": 1,
   "metadata": {},
   "outputs": [],
   "source": [
    "list1 = [[2,5,8],\n",
    "         [3,7,4],\n",
    "         [1,6,9],\n",
    "         [4,2,0]]"
   ]
  },
  {
   "cell_type": "markdown",
   "metadata": {},
   "source": [
    "97.Using the 2D list from program 96, ask the user to select a row and a column and display that value."
   ]
  },
  {
   "cell_type": "code",
   "execution_count": 13,
   "metadata": {},
   "outputs": [
    {
     "name": "stdout",
     "output_type": "stream",
     "text": [
      "enter տող(0-3) և սյունակ(0-2): 2 2\n",
      "2\n",
      "9\n"
     ]
    }
   ],
   "source": [
    "տող,սյունակ = input('enter տող(0-3) և սյունակ(0-2): ').split()\n",
    "print(սյունակ)\n",
    "print(list1[int(տող)][int(սյունակ)])"
   ]
  },
  {
   "cell_type": "markdown",
   "metadata": {},
   "source": [
    "98.Using the 2D list from program 96, ask the user\n",
    "which row they would like displayed and display\n",
    "just that row. Ask them to enter a new value and\n",
    "add it to the end of the row and display the row\n",
    "again."
   ]
  },
  {
   "cell_type": "code",
   "execution_count": 22,
   "metadata": {},
   "outputs": [
    {
     "name": "stdout",
     "output_type": "stream",
     "text": [
      "Index of list for list: 2\n",
      "[1, 6, 9]\n",
      "new element for this list: 4\n",
      "[1, 6, 9, 4]\n"
     ]
    }
   ],
   "source": [
    "ask = int(input('Index of list for list: '))\n",
    "print(list1[ask])\n",
    "list1[ask].append(int(input('new element for this list: ')))\n",
    "print(list1[ask])"
   ]
  }
 ],
 "metadata": {
  "kernelspec": {
   "display_name": "Python 3",
   "language": "python",
   "name": "python3"
  },
  "language_info": {
   "codemirror_mode": {
    "name": "ipython",
    "version": 3
   },
   "file_extension": ".py",
   "mimetype": "text/x-python",
   "name": "python",
   "nbconvert_exporter": "python",
   "pygments_lexer": "ipython3",
   "version": "3.8.10"
  }
 },
 "nbformat": 4,
 "nbformat_minor": 2
}
